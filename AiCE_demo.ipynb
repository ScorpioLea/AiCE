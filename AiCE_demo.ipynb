{
 "cells": [
  {
   "cell_type": "code",
   "execution_count": 1,
   "id": "906874af-b83d-4f66-9305-2e5fae2f16f9",
   "metadata": {},
   "outputs": [
    {
     "data": {
      "text/plain": [
       "'/home/user/software/test'"
      ]
     },
     "execution_count": 1,
     "metadata": {},
     "output_type": "execute_result"
    }
   ],
   "source": [
    "pwd"
   ]
  },
  {
   "cell_type": "markdown",
   "id": "2a6c74f3-f17e-4264-9dfa-272d7f664b9a",
   "metadata": {},
   "source": [
    "以核酸酶SpCas9为例，基于AiCE预测HF突变"
   ]
  },
  {
   "cell_type": "code",
   "execution_count": 2,
   "id": "8656b43e-ac9e-4676-a483-ac80e032638b",
   "metadata": {},
   "outputs": [
    {
     "name": "stdout",
     "output_type": "stream",
     "text": [
      "SpCas9_af3.pdb\n"
     ]
    }
   ],
   "source": [
    "!cd example/ && ls "
   ]
  },
  {
   "cell_type": "code",
   "execution_count": 3,
   "id": "8119c9db-3907-416d-8a45-6f2654adfbf7",
   "metadata": {},
   "outputs": [
    {
     "name": "stdout",
     "output_type": "stream",
     "text": [
      "/home/user/software/test/example\n"
     ]
    }
   ],
   "source": [
    "cd example/"
   ]
  },
  {
   "cell_type": "code",
   "execution_count": 4,
   "id": "3671f543-6769-4e92-8aaf-b5dd9be984cc",
   "metadata": {},
   "outputs": [
    {
     "name": "stdout",
     "output_type": "stream",
     "text": [
      "Usage: ../scripts/01.single_mut_prediction.sh <scripts_dir> <input_folder> <beta> <gamma> [output_folder]\n",
      "Example: ../scripts/01.single_mut_prediction.sh ../scripts ./input_pdbs 0.8 0.5 ../custom_output\n"
     ]
    }
   ],
   "source": [
    "!bash ../scripts/01.single_mut_prediction.sh"
   ]
  },
  {
   "cell_type": "code",
   "execution_count": 5,
   "id": "dd62fb77-9e0c-4922-b361-83b3d83bc71f",
   "metadata": {},
   "outputs": [
    {
     "name": "stdout",
     "output_type": "stream",
     "text": [
      "Running inverse folding (MPNN) on all PDB files in: ./ ...\n",
      "----------------------------------------\n",
      "chain_id_jsonl is NOT loaded\n",
      "----------------------------------------\n",
      "fixed_positions_jsonl is NOT loaded\n",
      "----------------------------------------\n",
      "pssm_jsonl is NOT loaded\n",
      "----------------------------------------\n",
      "omit_AA_jsonl is NOT loaded\n",
      "----------------------------------------\n",
      "bias_AA_jsonl is NOT loaded\n",
      "----------------------------------------\n",
      "tied_positions_jsonl is NOT loaded\n",
      "----------------------------------------\n",
      "bias by residue dictionary is not loaded, or not provided\n",
      "----------------------------------------\n",
      "discarded {'bad_chars': 0, 'too_long': 0, 'bad_seq_length': 0}\n",
      "----------------------------------------\n",
      "Number of edges: 48\n",
      "Training noise level: 0.2A\n",
      "Generating sequences for: SpCas9_af3\n",
      "992 sequences of length 1368 generated in 266.6966 seconds\n",
      "Processing completed! Results saved to: ../output\n",
      "Found 1 .fa files. Proceeding with reformat and subsequent predictions...\n",
      "-----------------------------------------\n",
      "[INFO] Processing sequence file: SpCas9_af3.fa\n",
      "  [Done] FASTA header reformatted -> SpCas9_af3.fa\n",
      "[Step A] Predicting secondary structure for SpCas9_af3...\n",
      "Dropped unsupported records: TER\n",
      "Secondary structure prediction saved to ../output/SpCas9_af3.ss\n",
      "[Step B] Calculating residue frequencies for SpCas9_af3...\n",
      "[INFO] Done! freq_file -> ../output/SpCas9_af3.freq, max_freq -> ../output/SpCas9_af3.re.freq\n",
      "[Step C] Generating mutation predictions for SpCas9_af3...\n",
      "[INFO] Combined file saved to ../output/SpCas9_af3.comb\n",
      "[INFO] Filtered mutations saved to ../output/SpCas9_af3.mut\n",
      "Done with SpCas9_af3!\n",
      "-----------------------------------------\n",
      "Pipeline completed successfully!\n",
      "All output files are located in: ../output\n",
      "总计 1.7M\n",
      "-rw-rw-r-- 1 user user  24K  1月 30 13:16 SpCas9_af3.comb\n",
      "-rw-rw-r-- 1 user user 1.4M  1月 30 13:16 SpCas9_af3.fa\n",
      "-rw-rw-r-- 1 user user 254K  1月 30 13:16 SpCas9_af3.freq\n",
      "-rw-rw-r-- 1 user user 3.2K  1月 30 13:16 SpCas9_af3.mut\n",
      "-rw-rw-r-- 1 user user  15K  1月 30 13:16 SpCas9_af3.re.freq\n",
      "-rw-rw-r-- 1 user user  11K  1月 30 13:16 SpCas9_af3.ss\n",
      "\tCommand being timed: \"bash ../scripts/01.single_mut_prediction.sh ../scripts ./ 0.8 0.5\"\n",
      "\tUser time (seconds): 290.60\n",
      "\tSystem time (seconds): 11.43\n",
      "\tPercent of CPU this job got: 104%\n",
      "\tElapsed (wall clock) time (h:mm:ss or m:ss): 4:48.51\n",
      "\tAverage shared text size (kbytes): 0\n",
      "\tAverage unshared data size (kbytes): 0\n",
      "\tAverage stack size (kbytes): 0\n",
      "\tAverage total size (kbytes): 0\n",
      "\tMaximum resident set size (kbytes): 1168592\n",
      "\tAverage resident set size (kbytes): 0\n",
      "\tMajor (requiring I/O) page faults: 0\n",
      "\tMinor (reclaiming a frame) page faults: 356943\n",
      "\tVoluntary context switches: 3895\n",
      "\tInvoluntary context switches: 549\n",
      "\tSwaps: 0\n",
      "\tFile system inputs: 168\n",
      "\tFile system outputs: 9232\n",
      "\tSocket messages sent: 0\n",
      "\tSocket messages received: 0\n",
      "\tSignals delivered: 0\n",
      "\tPage size (bytes): 4096\n",
      "\tExit status: 0\n"
     ]
    }
   ],
   "source": [
    "!/usr/bin/time -v bash ../scripts/01.single_mut_prediction.sh ../scripts ./ 0.8 0.5 "
   ]
  },
  {
   "cell_type": "code",
   "execution_count": 6,
   "id": "ef780068-ced9-4b41-a8b6-5abde3171fc1",
   "metadata": {},
   "outputs": [
    {
     "name": "stdout",
     "output_type": "stream",
     "text": [
      "Usage: python run_ld_pipeline.py <seq_dir> <output_ld_dir>\n"
     ]
    }
   ],
   "source": [
    "!python ../scripts/02.caculated_ld.py"
   ]
  },
  {
   "cell_type": "code",
   "execution_count": 7,
   "id": "db3e3604-fd89-4343-a5d9-95704414e269",
   "metadata": {},
   "outputs": [
    {
     "name": "stdout",
     "output_type": "stream",
     "text": [
      "Usage: ../scripts/03.caculated_sca.sh <script_dir> <input_dir> <output_dir>\n",
      "Example: ../scripts/03.caculated_sca.sh ./scripts/pySCA ./input_fa ./output\n"
     ]
    }
   ],
   "source": [
    "!bash ../scripts/03.caculated_sca.sh"
   ]
  },
  {
   "cell_type": "code",
   "execution_count": 8,
   "id": "d4c73c95-8aa7-40c3-b075-58018d40cfd0",
   "metadata": {},
   "outputs": [
    {
     "name": "stdout",
     "output_type": "stream",
     "text": [
      "\n",
      "[INFO] Processing file: ../output/SpCas9_af3.fa with prefix: SpCas9_af3\n",
      "  [Done] Protein -> DNA: ../output/SpCas9_af3_dna.fasta\n",
      "  [Done] DNA FASTA -> VCF: ../output/SpCas9_af3.vcf\n",
      "PLINK v1.90b6.21 64-bit (19 Oct 2020)          www.cog-genomics.org/plink/1.9/\n",
      "(C) 2005-2020 Shaun Purcell, Christopher Chang   GNU General Public License v3\n",
      "Logging to ../output/SpCas9_af3.log.\n",
      "Options in effect:\n",
      "  --allow-extra-chr\n",
      "  --allow-no-sex\n",
      "  --geno 1\n",
      "  --hwe 0\n",
      "  --keep-allele-order\n",
      "  --maf 0.00001\n",
      "  --mind 1\n",
      "  --out ../output/SpCas9_af3\n",
      "  --r2 square\n",
      "  --snps-only\n",
      "  --vcf ../output/SpCas9_af3.vcf\n",
      "\n",
      "128464 MB RAM detected; reserving 64232 MB for main workspace.\n",
      "--vcf: ../output/SpCas9_af3-temporary.bed + ../output/SpCas9_af3-temporary.bim\n",
      "+ ../output/SpCas9_af3-temporary.fam written.\n",
      "3793 variants loaded from .bim file.\n",
      "992 people (0 males, 0 females, 992 ambiguous) loaded from .fam.\n",
      "Ambiguous sex IDs written to ../output/SpCas9_af3.nosex .\n",
      "Using up to 111 threads (change this with --threads).\n",
      "Before main variant filters, 992 founders and 0 nonfounders present.\n",
      "Calculating allele frequencies... done.\n",
      "Total genotyping rate is 0.898923.\n",
      "8 variants removed due to minor allele threshold(s)\n",
      "(--maf/--max-maf/--mac/--max-mac).\n",
      "3785 variants and 992 people pass filters and QC.\n",
      "Note: No phenotypes present.\n",
      "done.processing]\n",
      "[INFO] Done with SpCas9_af3. LD matrix file => ../output/SpCas9_af3.ld\n",
      "\n",
      "All jobs completed. LD files are located in: ../output\n",
      "\tCommand being timed: \"python ../scripts/02.caculated_ld.py ../output/ ../output\"\n",
      "\tUser time (seconds): 10.20\n",
      "\tSystem time (seconds): 5.56\n",
      "\tPercent of CPU this job got: 345%\n",
      "\tElapsed (wall clock) time (h:mm:ss or m:ss): 0:04.56\n",
      "\tAverage shared text size (kbytes): 0\n",
      "\tAverage unshared data size (kbytes): 0\n",
      "\tAverage stack size (kbytes): 0\n",
      "\tAverage total size (kbytes): 0\n",
      "\tMaximum resident set size (kbytes): 105728\n",
      "\tAverage resident set size (kbytes): 0\n",
      "\tMajor (requiring I/O) page faults: 0\n",
      "\tMinor (reclaiming a frame) page faults: 43514\n",
      "\tVoluntary context switches: 162\n",
      "\tInvoluntary context switches: 127\n",
      "\tSwaps: 0\n",
      "\tFile system inputs: 8\n",
      "\tFile system outputs: 677760\n",
      "\tSocket messages sent: 0\n",
      "\tSocket messages received: 0\n",
      "\tSignals delivered: 0\n",
      "\tPage size (bytes): 4096\n",
      "\tExit status: 0\n",
      "[INFO] Found 1 .fa files in ../output. Results go to ../output.\n",
      "-------------------------------------------------\n",
      "[INFO] Processing: ../output/SpCas9_af3.fa\n",
      "Loaded alignment of 993 sequences, 1368 positions.\n",
      "Checking alignment for non-standard amino acids\n",
      "Alignment size after removing sequences with non-standard amino acids: 993\n",
      "Trimming alignment for highly gapped positions (80% or more).\n",
      "Alignment size post-trimming: 1368 positions\n",
      "using provided reference index 0\n",
      "ref\n",
      "Len refseq 1368, len refpos 1368, Len alg seq 1368, len pairalg 1368, len gloalg 1368\n",
      "Conducting sequence and position filtering: alignment size is 993 seqs, 1368 pos\n",
      "ATS should also have 1368 positions - ATS: 1368\n",
      "Keeping 993 sequences of 993 sequences (after filtering for gaps)\n",
      "Keeping 993 sequences of 993 sequences (after filtering for seq similarity)\n",
      "After filtering: alignment size is 993 seqs, 993 effective seqs, 1368 pos\n",
      "Final alignment parameters:\n",
      "Number of sequences: M = 993\n",
      "Number of effective sequences: M' = 993\n",
      "Number of alignment positions: L = 1368\n",
      "All files written to: ../output\n",
      "FASTA: ../output/SpCas9_af3processed.fasta\n",
      "DB: ../output/SpCas9_af3.db\n",
      "Done.\n",
      "[INFO] Running scaCore.py on ../output/SpCas9_af3.db ...\n",
      "Computing the sequence projections...\n",
      "Computing the SCA conservation and correlation values...\n",
      "Computing matrix randomizations...\n",
      "Randomizations complete, 10 trials, time: 59.1 minutes\n",
      "Calculations complete. Writing updated database to: ../output/SpCas9_af3.db\n",
      "SCA matrix file saved as ../output/SpCas9_af3.sca_matrix.tsv\n",
      "Done.\n",
      "[INFO] Removed ../output/SpCas9_af3processed.fasta\n",
      "[INFO] Done with SpCas9_af3.\n",
      "-------------------------------------------------\n",
      "[INFO] All done! Final outputs are in: ../output\n"
     ]
    }
   ],
   "source": [
    "!/usr/bin/time -v python ../scripts/02.caculated_ld.py ../output/ ../output && bash ../scripts/03.caculated_sca.sh ../scripts/pySCA/ ../output ../output "
   ]
  },
  {
   "cell_type": "code",
   "execution_count": 9,
   "id": "64d97443-6bef-4aad-b87e-fe37ecf3cef9",
   "metadata": {},
   "outputs": [
    {
     "name": "stdout",
     "output_type": "stream",
     "text": [
      "Usage: ../scripts/04.com_mut_prediction.sh <script_dir> <input_dir> <number-or-list> <output_dir>\n"
     ]
    }
   ],
   "source": [
    "!bash ../scripts/04.com_mut_prediction.sh"
   ]
  },
  {
   "cell_type": "code",
   "execution_count": 3,
   "id": "e87e17d9-9f6e-4a45-b82f-7a01b7e43a3e",
   "metadata": {},
   "outputs": [
    {
     "name": "stdout",
     "output_type": "stream",
     "text": [
      "--------------------------------------------------\n",
      "[INFO] Processing prefix: SpCas9_af3\n",
      "      -> SCA file: ../output//SpCas9_af3.sca_matrix.tsv\n",
      "      -> COMB file: ../output//SpCas9_af3.comb\n",
      "      -> LD file: ../output//SpCas9_af3.ld\n",
      "      -> VCF file: ../output//SpCas9_af3.vcf\n",
      "[INFO] Using -n 2\n",
      "[CMD] python ../scripts/com_mut_prediction.py -i ../output//SpCas9_af3.sca_matrix.tsv --comb ../output//SpCas9_af3.comb -n 2 -o ../output/SpCas9_af3.sca.result\n",
      "/home/user/software/test/example/../scripts/com_mut_prediction.py:83: FutureWarning: The 'delim_whitespace' keyword in pd.read_csv is deprecated and will be removed in a future version. Use ``sep='\\s+'`` instead\n",
      "  df = pd.read_csv(comb_file, delim_whitespace=True)\n",
      "[INFO] Loaded comb_dict with 1368 entries.\n",
      "[INFO] Using percentile approach => 0.90 => top 10.0%\n",
      "[INFO] Computed cutoff => 0.5585024893981038\n",
      "[INFO] Generating combos from 1..1368, size=2\n",
      "[INFO] Generated 935028 combos.\n",
      "[DONE] => ../output/SpCas9_af3.sca.result\n",
      "[CMD] python ../scripts/com_mut_prediction.py -i ../output//SpCas9_af3.ld --comb ../output//SpCas9_af3.comb -n 2 -o ../output/SpCas9_af3.ld.result --vcf ../output//SpCas9_af3.vcf\n",
      "/home/user/software/test/example/../scripts/com_mut_prediction.py:83: FutureWarning: The 'delim_whitespace' keyword in pd.read_csv is deprecated and will be removed in a future version. Use ``sep='\\s+'`` instead\n",
      "  df = pd.read_csv(comb_file, delim_whitespace=True)\n",
      "[INFO] Loaded comb_dict with 1368 entries.\n",
      "[INFO] Using direct numeric threshold => 0.5\n",
      "[INFO] Found sca_matrix of size 1368 => generating combos of size 2\n",
      "[INFO] Generated 935028 combos from sca_matrix.\n",
      "/home/user/software/test/example/../scripts/com_mut_prediction.py:135: RuntimeWarning: invalid value encountered in double_scalars\n",
      "  w_i = (ld_matrix[i,i]*(1-ld_matrix[j,j])) / ((1-ld_matrix[i,i])*ld_matrix[j,j])\n",
      "/home/user/software/test/example/../scripts/com_mut_prediction.py:136: RuntimeWarning: invalid value encountered in double_scalars\n",
      "  w_j = (ld_matrix[j,j]*(1-ld_matrix[i,i])) / ((1-ld_matrix[j,j])*ld_matrix[i,i])\n",
      "[DONE] => ../output/SpCas9_af3.ld.result\n",
      "--------------------------------------------------\n",
      "[INFO] All done! Results are in ../output\n",
      "\tCommand being timed: \"bash ../scripts/04.com_mut_prediction.sh ../scripts ../output/ 2 ../output\"\n",
      "\tUser time (seconds): 264.42\n",
      "\tSystem time (seconds): 11.14\n",
      "\tPercent of CPU this job got: 104%\n",
      "\tElapsed (wall clock) time (h:mm:ss or m:ss): 4:22.99\n",
      "\tAverage shared text size (kbytes): 0\n",
      "\tAverage unshared data size (kbytes): 0\n",
      "\tAverage stack size (kbytes): 0\n",
      "\tAverage total size (kbytes): 0\n",
      "\tMaximum resident set size (kbytes): 485692\n",
      "\tAverage resident set size (kbytes): 0\n",
      "\tMajor (requiring I/O) page faults: 105\n",
      "\tMinor (reclaiming a frame) page faults: 351074\n",
      "\tVoluntary context switches: 472\n",
      "\tInvoluntary context switches: 444\n",
      "\tSwaps: 0\n",
      "\tFile system inputs: 24960\n",
      "\tFile system outputs: 273976\n",
      "\tSocket messages sent: 0\n",
      "\tSocket messages received: 0\n",
      "\tSignals delivered: 0\n",
      "\tPage size (bytes): 4096\n",
      "\tExit status: 0\n"
     ]
    }
   ],
   "source": [
    "!/usr/bin/time -v bash  ../scripts/04.com_mut_prediction.sh ../scripts ../output/ 2 ../output"
   ]
  }
 ],
 "metadata": {
  "kernelspec": {
   "display_name": "Python 3 (ipykernel)",
   "language": "python",
   "name": "python3"
  },
  "language_info": {
   "codemirror_mode": {
    "name": "ipython",
    "version": 3
   },
   "file_extension": ".py",
   "mimetype": "text/x-python",
   "name": "python",
   "nbconvert_exporter": "python",
   "pygments_lexer": "ipython3",
   "version": "3.11.11"
  }
 },
 "nbformat": 4,
 "nbformat_minor": 5
}
